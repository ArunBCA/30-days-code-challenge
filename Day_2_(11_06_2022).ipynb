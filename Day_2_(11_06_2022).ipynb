{
  "nbformat": 4,
  "nbformat_minor": 0,
  "metadata": {
    "colab": {
      "name": "Day 2 (11/06/2022).ipynb",
      "provenance": [],
      "authorship_tag": "ABX9TyMmoT2J2IevKcpVXYn9EfT1",
      "include_colab_link": true
    },
    "kernelspec": {
      "name": "python3",
      "display_name": "Python 3"
    },
    "language_info": {
      "name": "python"
    }
  },
  "cells": [
    {
      "cell_type": "markdown",
      "metadata": {
        "id": "view-in-github",
        "colab_type": "text"
      },
      "source": [
        "<a href=\"https://colab.research.google.com/github/ArunBCA/30-days-code-challenge/blob/main/Day_2_(11_06_2022).ipynb\" target=\"_parent\"><img src=\"https://colab.research.google.com/assets/colab-badge.svg\" alt=\"Open In Colab\"/></a>"
      ]
    },
    {
      "cell_type": "markdown",
      "source": [
        "Perform list operations on typing a word"
      ],
      "metadata": {
        "id": "_l5IZwYPwaiy"
      }
    },
    {
      "cell_type": "code",
      "execution_count": null,
      "metadata": {
        "colab": {
          "base_uri": "https://localhost:8080/"
        },
        "id": "9tkxbgOKupHs",
        "outputId": "2689e184-b599-4273-b383-b8e13785c3fe"
      },
      "outputs": [
        {
          "name": "stdout",
          "output_type": "stream",
          "text": [
            "1\n",
            "insert 1 2\n"
          ]
        }
      ],
      "source": [
        "if __name__ == '__main__':\n",
        "    N = int(input())\n",
        "    Output = [];\n",
        "    for i in range(0,N):\n",
        "        ip = input().split();\n",
        "        if ip[0] == \"print\":\n",
        "            print(Output)\n",
        "        elif ip[0] == \"insert\":\n",
        "            Output.insert(int(ip[1]),int(ip[2]))\n",
        "        elif ip[0] == \"remove\":\n",
        "            Output.remove(int(ip[1]))\n",
        "        elif ip[0] == \"pop\":\n",
        "            Output.pop();\n",
        "        elif ip[0] == \"append\":\n",
        "            Output.append(int(ip[1]))\n",
        "        elif ip[0] == \"sort\":\n",
        "            Output.sort();\n",
        "        else:\n",
        "            Output.reverse();"
      ]
    }
  ]
}