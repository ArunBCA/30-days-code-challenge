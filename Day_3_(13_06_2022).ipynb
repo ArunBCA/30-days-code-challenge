{
  "nbformat": 4,
  "nbformat_minor": 0,
  "metadata": {
    "colab": {
      "name": "Day 3.ipynb",
      "provenance": [],
      "authorship_tag": "ABX9TyPeibpGpD9uAOsFVWGQfPb0",
      "include_colab_link": true
    },
    "kernelspec": {
      "name": "python3",
      "display_name": "Python 3"
    },
    "language_info": {
      "name": "python"
    },
    "gpuClass": "standard"
  },
  "cells": [
    {
      "cell_type": "markdown",
      "metadata": {
        "id": "view-in-github",
        "colab_type": "text"
      },
      "source": [
        "<a href=\"https://colab.research.google.com/github/ArunBCA/30-days-code-challenge/blob/main/Day_3_(13_06_2022).ipynb\" target=\"_parent\"><img src=\"https://colab.research.google.com/assets/colab-badge.svg\" alt=\"Open In Colab\"/></a>"
      ]
    },
    {
      "cell_type": "markdown",
      "source": [
        "Python 3 Basics"
      ],
      "metadata": {
        "id": "FKXrOt72Ghff"
      }
    },
    {
      "cell_type": "code",
      "execution_count": 5,
      "metadata": {
        "colab": {
          "base_uri": "https://localhost:8080/"
        },
        "id": "z9gu67K8GFeh",
        "outputId": "be5f34fb-4c32-4576-d491-1960062d0ed8"
      },
      "outputs": [
        {
          "output_type": "execute_result",
          "data": {
            "text/plain": [
              "19"
            ]
          },
          "metadata": {},
          "execution_count": 5
        }
      ],
      "source": [
        "abs(-19)"
      ]
    },
    {
      "cell_type": "code",
      "source": [
        "print(round(2.3))\n",
        "print(round(2.3444,2))"
      ],
      "metadata": {
        "colab": {
          "base_uri": "https://localhost:8080/"
        },
        "id": "eCsPaL74GnOE",
        "outputId": "c53e7a2e-cbfc-4b94-a5c5-84a4f7ccc7d9"
      },
      "execution_count": 11,
      "outputs": [
        {
          "output_type": "stream",
          "name": "stdout",
          "text": [
            "2\n",
            "2.34\n"
          ]
        }
      ]
    },
    {
      "cell_type": "code",
      "source": [
        "linspace(1,100,100)"
      ],
      "metadata": {
        "colab": {
          "base_uri": "https://localhost:8080/"
        },
        "id": "fLFDeYTyG_kd",
        "outputId": "6544062b-5fb3-419e-b65a-2b1b0b4fe489"
      },
      "execution_count": 15,
      "outputs": [
        {
          "output_type": "execute_result",
          "data": {
            "text/plain": [
              "array([  1.,   2.,   3.,   4.,   5.,   6.,   7.,   8.,   9.,  10.,  11.,\n",
              "        12.,  13.,  14.,  15.,  16.,  17.,  18.,  19.,  20.,  21.,  22.,\n",
              "        23.,  24.,  25.,  26.,  27.,  28.,  29.,  30.,  31.,  32.,  33.,\n",
              "        34.,  35.,  36.,  37.,  38.,  39.,  40.,  41.,  42.,  43.,  44.,\n",
              "        45.,  46.,  47.,  48.,  49.,  50.,  51.,  52.,  53.,  54.,  55.,\n",
              "        56.,  57.,  58.,  59.,  60.,  61.,  62.,  63.,  64.,  65.,  66.,\n",
              "        67.,  68.,  69.,  70.,  71.,  72.,  73.,  74.,  75.,  76.,  77.,\n",
              "        78.,  79.,  80.,  81.,  82.,  83.,  84.,  85.,  86.,  87.,  88.,\n",
              "        89.,  90.,  91.,  92.,  93.,  94.,  95.,  96.,  97.,  98.,  99.,\n",
              "       100.])"
            ]
          },
          "metadata": {},
          "execution_count": 15
        }
      ]
    },
    {
      "cell_type": "code",
      "source": [
        "linspace(0,1,200)"
      ],
      "metadata": {
        "colab": {
          "base_uri": "https://localhost:8080/"
        },
        "id": "9hJcIOkcHaFE",
        "outputId": "41a6a7d1-f2c0-481a-ec6a-1275cc23d1db"
      },
      "execution_count": 16,
      "outputs": [
        {
          "output_type": "execute_result",
          "data": {
            "text/plain": [
              "array([0.        , 0.00502513, 0.01005025, 0.01507538, 0.0201005 ,\n",
              "       0.02512563, 0.03015075, 0.03517588, 0.04020101, 0.04522613,\n",
              "       0.05025126, 0.05527638, 0.06030151, 0.06532663, 0.07035176,\n",
              "       0.07537688, 0.08040201, 0.08542714, 0.09045226, 0.09547739,\n",
              "       0.10050251, 0.10552764, 0.11055276, 0.11557789, 0.12060302,\n",
              "       0.12562814, 0.13065327, 0.13567839, 0.14070352, 0.14572864,\n",
              "       0.15075377, 0.15577889, 0.16080402, 0.16582915, 0.17085427,\n",
              "       0.1758794 , 0.18090452, 0.18592965, 0.19095477, 0.1959799 ,\n",
              "       0.20100503, 0.20603015, 0.21105528, 0.2160804 , 0.22110553,\n",
              "       0.22613065, 0.23115578, 0.2361809 , 0.24120603, 0.24623116,\n",
              "       0.25125628, 0.25628141, 0.26130653, 0.26633166, 0.27135678,\n",
              "       0.27638191, 0.28140704, 0.28643216, 0.29145729, 0.29648241,\n",
              "       0.30150754, 0.30653266, 0.31155779, 0.31658291, 0.32160804,\n",
              "       0.32663317, 0.33165829, 0.33668342, 0.34170854, 0.34673367,\n",
              "       0.35175879, 0.35678392, 0.36180905, 0.36683417, 0.3718593 ,\n",
              "       0.37688442, 0.38190955, 0.38693467, 0.3919598 , 0.39698492,\n",
              "       0.40201005, 0.40703518, 0.4120603 , 0.41708543, 0.42211055,\n",
              "       0.42713568, 0.4321608 , 0.43718593, 0.44221106, 0.44723618,\n",
              "       0.45226131, 0.45728643, 0.46231156, 0.46733668, 0.47236181,\n",
              "       0.47738693, 0.48241206, 0.48743719, 0.49246231, 0.49748744,\n",
              "       0.50251256, 0.50753769, 0.51256281, 0.51758794, 0.52261307,\n",
              "       0.52763819, 0.53266332, 0.53768844, 0.54271357, 0.54773869,\n",
              "       0.55276382, 0.55778894, 0.56281407, 0.5678392 , 0.57286432,\n",
              "       0.57788945, 0.58291457, 0.5879397 , 0.59296482, 0.59798995,\n",
              "       0.60301508, 0.6080402 , 0.61306533, 0.61809045, 0.62311558,\n",
              "       0.6281407 , 0.63316583, 0.63819095, 0.64321608, 0.64824121,\n",
              "       0.65326633, 0.65829146, 0.66331658, 0.66834171, 0.67336683,\n",
              "       0.67839196, 0.68341709, 0.68844221, 0.69346734, 0.69849246,\n",
              "       0.70351759, 0.70854271, 0.71356784, 0.71859296, 0.72361809,\n",
              "       0.72864322, 0.73366834, 0.73869347, 0.74371859, 0.74874372,\n",
              "       0.75376884, 0.75879397, 0.7638191 , 0.76884422, 0.77386935,\n",
              "       0.77889447, 0.7839196 , 0.78894472, 0.79396985, 0.79899497,\n",
              "       0.8040201 , 0.80904523, 0.81407035, 0.81909548, 0.8241206 ,\n",
              "       0.82914573, 0.83417085, 0.83919598, 0.84422111, 0.84924623,\n",
              "       0.85427136, 0.85929648, 0.86432161, 0.86934673, 0.87437186,\n",
              "       0.87939698, 0.88442211, 0.88944724, 0.89447236, 0.89949749,\n",
              "       0.90452261, 0.90954774, 0.91457286, 0.91959799, 0.92462312,\n",
              "       0.92964824, 0.93467337, 0.93969849, 0.94472362, 0.94974874,\n",
              "       0.95477387, 0.95979899, 0.96482412, 0.96984925, 0.97487437,\n",
              "       0.9798995 , 0.98492462, 0.98994975, 0.99497487, 1.        ])"
            ]
          },
          "metadata": {},
          "execution_count": 16
        }
      ]
    },
    {
      "cell_type": "code",
      "source": [
        "t=linspace(-pi,pi,100)\n",
        "len(t)\n"
      ],
      "metadata": {
        "colab": {
          "base_uri": "https://localhost:8080/"
        },
        "id": "yRoZfA3PHeC0",
        "outputId": "a6ef8ab7-aa43-412f-e2d8-baa6b0089088"
      },
      "execution_count": 33,
      "outputs": [
        {
          "output_type": "execute_result",
          "data": {
            "text/plain": [
              "100"
            ]
          },
          "metadata": {},
          "execution_count": 33
        }
      ]
    },
    {
      "cell_type": "code",
      "source": [
        "plot(t,cos(t))"
      ],
      "metadata": {
        "colab": {
          "base_uri": "https://localhost:8080/"
        },
        "id": "cm4hYiA_HqDj",
        "outputId": "b5573d50-d6df-46de-d208-4424751140d0"
      },
      "execution_count": 23,
      "outputs": [
        {
          "output_type": "execute_result",
          "data": {
            "text/plain": [
              "[<matplotlib.lines.Line2D at 0x7f6488dd8110>]"
            ]
          },
          "metadata": {},
          "execution_count": 23
        }
      ]
    },
    {
      "cell_type": "code",
      "source": [
        "x=-pi/2\n",
        "y=pi/2\n",
        "z=linspace(x,y,100)\n",
        "len(z)"
      ],
      "metadata": {
        "colab": {
          "base_uri": "https://localhost:8080/"
        },
        "id": "-_H-BW-IINc1",
        "outputId": "0c384ef8-f7fb-48bb-a4fb-94f4fbb03540"
      },
      "execution_count": 30,
      "outputs": [
        {
          "output_type": "execute_result",
          "data": {
            "text/plain": [
              "100"
            ]
          },
          "metadata": {},
          "execution_count": 30
        }
      ]
    },
    {
      "cell_type": "code",
      "source": [
        "x=linspace(-2,4,20)\n",
        "plot(x,sin(x))"
      ],
      "metadata": {
        "colab": {
          "base_uri": "https://localhost:8080/"
        },
        "id": "yX1hANQAI102",
        "outputId": "e5c44231-170f-4750-f50a-191417fb4e6b"
      },
      "execution_count": 40,
      "outputs": [
        {
          "output_type": "execute_result",
          "data": {
            "text/plain": [
              "[<matplotlib.lines.Line2D at 0x7f6488ef94d0>]"
            ]
          },
          "metadata": {},
          "execution_count": 40
        }
      ]
    }
  ]
}